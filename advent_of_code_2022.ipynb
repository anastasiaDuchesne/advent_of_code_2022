{
 "cells": [
  {
   "cell_type": "markdown",
   "id": "098035b8",
   "metadata": {},
   "source": [
    "# Day 1"
   ]
  },
  {
   "cell_type": "code",
   "execution_count": 1,
   "id": "fa892e09",
   "metadata": {},
   "outputs": [],
   "source": [
    "def day1_total_calories_per_elf(file_name):\n",
    "    with open(file_name) as f:\n",
    "        return [sum([int(y) for y in x.strip().split('\\n')]) for x in f.read().split(\"\\n\\n\")]"
   ]
  },
  {
   "cell_type": "code",
   "execution_count": 2,
   "id": "586d7c0d",
   "metadata": {},
   "outputs": [],
   "source": [
    "def day1_find_required_calories(data, isHighest, nbItems):\n",
    "    data.sort(reverse=isHighest)\n",
    "    return sum(data[:nbItems])"
   ]
  },
  {
   "cell_type": "code",
   "execution_count": 3,
   "id": "cdc49897",
   "metadata": {},
   "outputs": [],
   "source": [
    "def day1_solve(file_name):\n",
    "    data = day1_total_calories_per_elf(file_name)\n",
    "    part1 = day1_find_required_calories(data, True, 1)\n",
    "    part2 = day1_find_required_calories(data, True, 3)\n",
    "    print(\"DAY 1 == part 1 answer is {}, part 2 answer is {}\".format(part1, part2)) "
   ]
  },
  {
   "cell_type": "markdown",
   "id": "9fcbacca",
   "metadata": {},
   "source": [
    "# Day 2"
   ]
  },
  {
   "cell_type": "code",
   "execution_count": 4,
   "id": "7ae5bea3",
   "metadata": {},
   "outputs": [],
   "source": [
    "def day2_parse_moves(file_name):\n",
    "    with open(file_name) as f:\n",
    "        #fileinput = f.read().strip().split('\\n')\n",
    "        #opponent, me = [int(x.split()[0].replace('A', '1').replace('B', '2').replace('C', '3')) for x in fileinput], [int(x.split()[1].replace('X', '1').replace('Y', '2').replace('Z', '3')) for x in fileinput]\n",
    "        #return [opponent, me]\n",
    "        #return list(zip(*[x.split() for x in f.read().strip().split('\\n')][::-1]))\n",
    "        return [list(map(int, x.replace('A', '1').replace('B', '2').replace('C', '3').replace('X', '1').replace('Y', '2').replace('Z', '3').split())) for x in f.read().strip().split('\\n')]\n",
    "        "
   ]
  },
  {
   "cell_type": "code",
   "execution_count": 5,
   "id": "bf58988f",
   "metadata": {},
   "outputs": [],
   "source": [
    "def day2_part1(moves):\n",
    "    points = 0\n",
    "    for move in moves:\n",
    "        result = move[1] - move[0]\n",
    "        if abs(result) == 2:\n",
    "            result = result * (-1)\n",
    "\n",
    "        points += move[1] + (result > 0) * 6 + (result == 0) * 3\n",
    "    return points"
   ]
  },
  {
   "cell_type": "code",
   "execution_count": 6,
   "id": "49ff4810",
   "metadata": {},
   "outputs": [],
   "source": [
    "def day2_part2(moves):\n",
    "    points = 0\n",
    "    for move in moves:\n",
    "         points += (move[1]==3) * (6 + move[0]%3+1) + (move[1]==2) * (3+move[0]) + (move[1]==1)*((move[0]-2)%3+1)\n",
    "    return points"
   ]
  },
  {
   "cell_type": "code",
   "execution_count": 7,
   "id": "cb6a6a30",
   "metadata": {},
   "outputs": [],
   "source": [
    "def day2_solve(file_name):\n",
    "    moves = day2_parse_moves(file_name)\n",
    "    part1 = day2_part1(moves)\n",
    "    part2 = day2_part2(moves)\n",
    "    print(\"DAY 2 == part 1 answer is {}, part 2 answer is {}\".format(part1, part2)) "
   ]
  },
  {
   "cell_type": "markdown",
   "id": "7410aad3",
   "metadata": {},
   "source": [
    "# Day 3"
   ]
  },
  {
   "cell_type": "code",
   "execution_count": 8,
   "id": "c0b3c04c",
   "metadata": {},
   "outputs": [],
   "source": [
    "def day3_open_rucksacks(file_name):\n",
    "    with open(file_name) as f:\n",
    "        return f.read().split()"
   ]
  },
  {
   "cell_type": "code",
   "execution_count": 9,
   "id": "b348a175",
   "metadata": {},
   "outputs": [],
   "source": [
    "def day3_find_common(objects):\n",
    "    object_types = \"\"\n",
    "    for obj in objects:\n",
    "        object_types += object_types.join(set(obj[0]).intersection(*obj[1:]))\n",
    "    return object_types"
   ]
  },
  {
   "cell_type": "code",
   "execution_count": 10,
   "id": "3cd1cba4",
   "metadata": {},
   "outputs": [],
   "source": [
    "def day3_compute_priorities(item_types):\n",
    "    return sum([ord(x) - 96*(x.islower()) - 38*(x.isupper()) for x in item_types])"
   ]
  },
  {
   "cell_type": "code",
   "execution_count": 11,
   "id": "6ba97768",
   "metadata": {},
   "outputs": [],
   "source": [
    "def day3_solve(file_name):\n",
    "    items = day3_open_rucksacks(file_name)\n",
    "    \n",
    "    supplies = [[x[:len(x)//2], x[len(x)//2:]] for x in items]\n",
    "    badges = [items[x:x+3] for x in range(0, len(items), 3)]\n",
    "    \n",
    "    part1_obj_types = day3_find_common(supplies)\n",
    "    part2_obj_types = day3_find_common(badges)\n",
    "    \n",
    "    part1 = day3_compute_priorities(part1_obj_types)\n",
    "    part2 = day3_compute_priorities(part2_obj_types)\n",
    "    \n",
    "    print(\"DAY 3 == part 1 answer is {}, part 2 answer is {}\".format(part1, part2)) "
   ]
  },
  {
   "cell_type": "markdown",
   "id": "e967a623",
   "metadata": {},
   "source": [
    "# Day 4\n"
   ]
  },
  {
   "cell_type": "code",
   "execution_count": 12,
   "id": "cc22bb6a",
   "metadata": {},
   "outputs": [],
   "source": [
    "def day4_parse_tasks(file_name):\n",
    "    with open(file_name) as f:\n",
    "        return [[list(map(int,y.split('-'))) for y in x.split(\",\")] for x in f.read().strip().split()]"
   ]
  },
  {
   "cell_type": "code",
   "execution_count": 13,
   "id": "94951624",
   "metadata": {},
   "outputs": [],
   "source": [
    "def day4_part1(tasks):\n",
    "    return len(list(filter(lambda task: (task[1][0] <= task[0][0] <= task[1][1] and task[1][0] <= task[0][1] <= task[1][1]) or (task[0][0] <= task[1][0] <= task[0][1] and task[0][0] <= task[1][1] <= task[0][1]), tasks)))\n",
    "\n",
    "def day4_part2(tasks):\n",
    "    return len(list(filter(lambda task: (task[1][0] <= task[0][0] <= task[1][1] or task[1][0] <= task[0][1] <= task[1][1]) or (task[0][0] <= task[1][0] <= task[0][1] or task[0][0] <= task[1][1] <= task[0][1]), tasks)))"
   ]
  },
  {
   "cell_type": "code",
   "execution_count": 14,
   "id": "6697c9b0",
   "metadata": {},
   "outputs": [],
   "source": [
    "def day4_solve(file_name):\n",
    "    tasks = day4_parse_tasks(file_name)\n",
    "    \n",
    "    part1 = day4_part1(tasks)\n",
    "    part2 = day4_part2(tasks)\n",
    "    \n",
    "    print(\"DAY 4 == part 1 answer is {}, part 2 answer is {}\".format(part1, part2)) "
   ]
  },
  {
   "cell_type": "markdown",
   "id": "700ba488",
   "metadata": {},
   "source": [
    "# Day 5"
   ]
  },
  {
   "cell_type": "code",
   "execution_count": 28,
   "id": "816dfa6e",
   "metadata": {},
   "outputs": [],
   "source": [
    "import re\n",
    "def day5_parse_stacks_and_moves(file_name):\n",
    "    with open(file_name) as f:\n",
    "        stack, moves = f.read().split(\"\\n\\n\")\n",
    "        parsed_moves = [list(map(int, re.sub(r\"\\D+\",' ', m).strip().split())) for m in moves.strip().split(\"\\n\")]\n",
    "        parsed_stack = list(zip(*[[line[i:i+4].strip() for i in range(0, len(line), 4)] for line in stack.split(\"\\n\")][:-1][::-1]))\n",
    "\n",
    "        parsed_stack = list(map(lambda x: list(filter(lambda y: y != \"\", x)), parsed_stack))\n",
    "    return parsed_moves, parsed_stack"
   ]
  },
  {
   "cell_type": "code",
   "execution_count": 20,
   "id": "4008066f",
   "metadata": {},
   "outputs": [],
   "source": [
    "def day5_move_crates(moves, stack, reverse):\n",
    "    for move in moves:\n",
    "        if reverse:\n",
    "            stack[move[2]-1].extend(list([stack[move[1]-1].pop() for _ in range(min(len(stack[move[1]-1]),move[0]))]))\n",
    "        else:\n",
    "            stack[move[2]-1].extend(list([stack[move[1]-1].pop() for _ in range(min(len(stack[move[1]-1]),move[0]))])[::-1])\n",
    "\n",
    "    return stack"
   ]
  },
  {
   "cell_type": "code",
   "execution_count": 17,
   "id": "b6260231",
   "metadata": {},
   "outputs": [],
   "source": [
    "def day5_find_top_crates(stack):\n",
    "    return re.sub(\"\\W+\", \"\",\"\".join([s[-1] for s in stack if len(s) > 0]))"
   ]
  },
  {
   "cell_type": "code",
   "execution_count": 22,
   "id": "90799e74",
   "metadata": {},
   "outputs": [],
   "source": [
    "import copy\n",
    "def day5_solve(file_name):\n",
    "    parsed_moves, parsed_stack =  day5_parse_stacks_and_moves(file_name)\n",
    "    stack1 = copy.deepcopy(parsed_stack)\n",
    "    stack2 = copy.deepcopy(parsed_stack)\n",
    "\n",
    "    stack_part1 = day5_move_crates(parsed_moves, stack1, True)\n",
    "    part1 = day5_find_top_crates(stack_part1)\n",
    "\n",
    "    stack_part2 = day5_move_crates(parsed_moves, stack2, False)\n",
    "    part2 = day5_find_top_crates(stack_part2)\n",
    "    \n",
    "    print(\"DAY 5 == part 1 answer is {}, part 2 answer is {}\".format(part1, part2)) "
   ]
  },
  {
   "cell_type": "markdown",
   "id": "b7b3cfc7",
   "metadata": {},
   "source": [
    "# Day 6"
   ]
  },
  {
   "cell_type": "code",
   "execution_count": 64,
   "id": "516a491b",
   "metadata": {},
   "outputs": [],
   "source": [
    "def day6_parse_signal(file_name): \n",
    "    with open(\"input/day6.txt\") as f:\n",
    "        return f.read().strip()\n",
    "\n",
    "def day6_find_marker(signal, distinct_nb):\n",
    "    for i in range(0, len(text)-distinct_nb+1):\n",
    "        if len(list(set(text[i:i+distinct_nb]))) == distinct_nb:\n",
    "            return i+distinct_nb\n",
    "        \n",
    "def day6_solve(file_name):\n",
    "    signal = day6_parse_signal(file_name)\n",
    "    \n",
    "    part1 = day6_find_marker(signal, 4)\n",
    "    part2 = day6_find_marker(signal, 14)\n",
    "    print(\"DAY 6 == part 1 answer is {}, part 2 answer is {}\".format(part1, part2)) "
   ]
  },
  {
   "cell_type": "code",
   "execution_count": null,
   "id": "bdc7ea28",
   "metadata": {},
   "outputs": [],
   "source": []
  },
  {
   "cell_type": "code",
   "execution_count": null,
   "id": "33652df2",
   "metadata": {},
   "outputs": [],
   "source": []
  },
  {
   "cell_type": "code",
   "execution_count": null,
   "id": "b56a1eb3",
   "metadata": {},
   "outputs": [],
   "source": []
  },
  {
   "cell_type": "markdown",
   "id": "6265da40",
   "metadata": {},
   "source": [
    "# Solutions"
   ]
  },
  {
   "cell_type": "code",
   "execution_count": 65,
   "id": "8eddade7",
   "metadata": {},
   "outputs": [
    {
     "name": "stdout",
     "output_type": "stream",
     "text": [
      "DAY 1 == part 1 answer is 68442, part 2 answer is 204837\n",
      "DAY 2 == part 1 answer is 15632, part 2 answer is 14416\n",
      "DAY 3 == part 1 answer is 8298, part 2 answer is 2708\n",
      "DAY 4 == part 1 answer is 550, part 2 answer is 931\n",
      "DAY 5 == part 1 answer is QGTHFZBHV, part 2 answer is MGDMPSZTM\n",
      "DAY 6 == part 1 answer is 1929, part 2 answer is 3298\n"
     ]
    }
   ],
   "source": [
    "day1_solve(\"input/day1.txt\")\n",
    "day2_solve(\"input/day2.txt\")\n",
    "day3_solve(\"input/day3.txt\")\n",
    "day4_solve(\"input/day4.txt\")\n",
    "day5_solve(\"input/day5.txt\")\n",
    "day6_solve(\"input/day6.txt\")"
   ]
  }
 ],
 "metadata": {
  "kernelspec": {
   "display_name": "Python 3 (ipykernel)",
   "language": "python",
   "name": "python3"
  },
  "language_info": {
   "codemirror_mode": {
    "name": "ipython",
    "version": 3
   },
   "file_extension": ".py",
   "mimetype": "text/x-python",
   "name": "python",
   "nbconvert_exporter": "python",
   "pygments_lexer": "ipython3",
   "version": "3.8.10"
  }
 },
 "nbformat": 4,
 "nbformat_minor": 5
}
