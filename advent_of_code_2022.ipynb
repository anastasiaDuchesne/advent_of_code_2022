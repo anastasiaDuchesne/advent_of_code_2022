{
 "cells": [
  {
   "cell_type": "markdown",
   "id": "098035b8",
   "metadata": {},
   "source": [
    "# Day 1"
   ]
  },
  {
   "cell_type": "code",
   "execution_count": 303,
   "id": "fa892e09",
   "metadata": {},
   "outputs": [],
   "source": [
    "def day1_total_calories_per_elf(file_name):\n",
    "    with open(file_name) as f:\n",
    "        return [sum([int(y) for y in x.strip().split('\\n')]) for x in f.read().split(\"\\n\\n\")]"
   ]
  },
  {
   "cell_type": "code",
   "execution_count": 304,
   "id": "586d7c0d",
   "metadata": {},
   "outputs": [],
   "source": [
    "def day1_find_required_calories(data, isHighest, nbItems):\n",
    "    data.sort(reverse=isHighest)\n",
    "    return sum(data[:nbItems])"
   ]
  },
  {
   "cell_type": "code",
   "execution_count": 318,
   "id": "cdc49897",
   "metadata": {},
   "outputs": [],
   "source": [
    "def day1_solve(file_name):\n",
    "    data = day1_total_calories_per_elf(file_name)\n",
    "    part1 = day1_find_required_calories(data, True, 1)\n",
    "    part2 = day1_find_required_calories(data, True, 3)\n",
    "    print(\"DAY 1 == part 1 answer is {}, part 2 answer is {}\".format(part1, part2)) "
   ]
  },
  {
   "cell_type": "markdown",
   "id": "9fcbacca",
   "metadata": {},
   "source": [
    "# Day 2"
   ]
  },
  {
   "cell_type": "code",
   "execution_count": 325,
   "id": "7ae5bea3",
   "metadata": {},
   "outputs": [],
   "source": [
    "def day2_parse_moves(file_name):\n",
    "    with open(file_name) as f:\n",
    "        #fileinput = f.read().strip().split('\\n')\n",
    "        #opponent, me = [int(x.split()[0].replace('A', '1').replace('B', '2').replace('C', '3')) for x in fileinput], [int(x.split()[1].replace('X', '1').replace('Y', '2').replace('Z', '3')) for x in fileinput]\n",
    "        #return [opponent, me]\n",
    "        #return list(zip(*[x.split() for x in f.read().strip().split('\\n')][::-1]))\n",
    "        return [x.replace('A', '1').replace('B', '2').replace('C', '3').replace('X', '1').replace('Y', '2').replace('Z', '3').split() for x in f.read().strip().split('\\n')]\n",
    "        "
   ]
  },
  {
   "cell_type": "code",
   "execution_count": 370,
   "id": "bf58988f",
   "metadata": {},
   "outputs": [],
   "source": [
    "def day2_part1(moves):\n",
    "    points = 0\n",
    "    for move in moves:\n",
    "        result = int(move[1]) - int(move[0])\n",
    "        if abs(result) == 2:\n",
    "            result = result * (-1)\n",
    "\n",
    "        points += int(move[1])+ (result > 0) * 6 + (result == 0) * 3\n",
    "    return points"
   ]
  },
  {
   "cell_type": "code",
   "execution_count": 368,
   "id": "49ff4810",
   "metadata": {},
   "outputs": [],
   "source": [
    "def day2_part2(moves):\n",
    "    points = 0\n",
    "    for move in moves:\n",
    "         points += (int(move[1])==3) * (6 + int(move[0])%3+1) + (int(move[1])==2) * (3+int(move[0])) + (int(move[1])==1)*((int(move[0])-2)%3+1)\n",
    "    return points"
   ]
  },
  {
   "cell_type": "code",
   "execution_count": 309,
   "id": "cb6a6a30",
   "metadata": {},
   "outputs": [],
   "source": [
    "def day2_solve(file_name):\n",
    "    moves = day2_parse_moves(file_name)\n",
    "    part1 = day2_part1(moves)\n",
    "    part2 = day2_part2(moves)\n",
    "    print(\"DAY 2 == part 1 answer is {}, part 2 answer is {}\".format(part1, part2)) "
   ]
  },
  {
   "cell_type": "markdown",
   "id": "7410aad3",
   "metadata": {},
   "source": [
    "# Day 3"
   ]
  },
  {
   "cell_type": "code",
   "execution_count": 365,
   "id": "c0b3c04c",
   "metadata": {},
   "outputs": [],
   "source": [
    "def day3_open_rucksacks(file_name):\n",
    "    with open(file_name) as f:\n",
    "        return f.read().split()"
   ]
  },
  {
   "cell_type": "code",
   "execution_count": 361,
   "id": "b348a175",
   "metadata": {},
   "outputs": [],
   "source": [
    "def day3_find_common(objects):\n",
    "    object_types = sum([for obj in objects])\n",
    "    object_types = \"\"\n",
    "    for obj in objects:\n",
    "        object_types += object_types.join(set(obj[0]).intersection(*obj[1:]))\n",
    "    return object_types"
   ]
  },
  {
   "cell_type": "code",
   "execution_count": 362,
   "id": "3cd1cba4",
   "metadata": {},
   "outputs": [],
   "source": [
    "def day3_compute_priorities(item_types):\n",
    "    return sum([ord(x) - 96*(x.islower()) - 38*(x.isupper()) for x in item_types])"
   ]
  },
  {
   "cell_type": "code",
   "execution_count": 363,
   "id": "6ba97768",
   "metadata": {},
   "outputs": [],
   "source": [
    "def day3_solve(file_name):\n",
    "    items = day3_open_rucksacks(file_name)\n",
    "    \n",
    "    supplies = [[x[:len(x)//2], x[len(x)//2:]] for x in items]\n",
    "    badges = [items[x:x+3] for x in range(0, len(items), 3)]\n",
    "    \n",
    "    part1_obj_types = day3_find_common(supplies)\n",
    "    part2_obj_types = day3_find_common(badges)\n",
    "    \n",
    "    part1 = day3_compute_priorities(part1_obj_types)\n",
    "    part2 = day3_compute_priorities(part2_obj_types)\n",
    "    \n",
    "    print(\"DAY 3 == part 1 answer is {}, part 2 answer is {}\".format(part1, part2)) "
   ]
  },
  {
   "cell_type": "markdown",
   "id": "e967a623",
   "metadata": {},
   "source": [
    "# Day 4\n"
   ]
  },
  {
   "cell_type": "code",
   "execution_count": null,
   "id": "cc22bb6a",
   "metadata": {},
   "outputs": [],
   "source": []
  },
  {
   "cell_type": "code",
   "execution_count": null,
   "id": "94951624",
   "metadata": {},
   "outputs": [],
   "source": []
  },
  {
   "cell_type": "markdown",
   "id": "6265da40",
   "metadata": {},
   "source": [
    "# Solutions"
   ]
  },
  {
   "cell_type": "code",
   "execution_count": 371,
   "id": "8eddade7",
   "metadata": {},
   "outputs": [
    {
     "name": "stdout",
     "output_type": "stream",
     "text": [
      "DAY 1 == part 1 answer is 68442, part 2 answer is 204837\n",
      "DAY 2 == part 1 answer is 15632, part 2 answer is 14416\n",
      "DAY 3 == part 1 answer is 8298, part 2 answer is 2708\n"
     ]
    }
   ],
   "source": [
    "day1_solve(\"input/day1.txt\")\n",
    "day2_solve(\"input/day2.txt\")\n",
    "day3_solve(\"input/day3.txt\")"
   ]
  }
 ],
 "metadata": {
  "kernelspec": {
   "display_name": "Python 3 (ipykernel)",
   "language": "python",
   "name": "python3"
  },
  "language_info": {
   "codemirror_mode": {
    "name": "ipython",
    "version": 3
   },
   "file_extension": ".py",
   "mimetype": "text/x-python",
   "name": "python",
   "nbconvert_exporter": "python",
   "pygments_lexer": "ipython3",
   "version": "3.8.10"
  }
 },
 "nbformat": 4,
 "nbformat_minor": 5
}
